{
  "cells": [
    {
      "cell_type": "markdown",
      "source": [
        "#Correlation and regression"
      ],
      "metadata": {
        "id": "zMBFstoOESML"
      }
    },
    {
      "cell_type": "code",
      "execution_count": 76,
      "metadata": {
        "colab": {
          "base_uri": "https://localhost:8080/",
          "height": 206
        },
        "id": "rzl-VrrUrLXE",
        "outputId": "d4fa1c07-21f7-44ed-f7b0-36b0cfab9500"
      },
      "outputs": [
        {
          "output_type": "execute_result",
          "data": {
            "text/html": [
              "<div>\n",
              "<style scoped>\n",
              "    .dataframe tbody tr th:only-of-type {\n",
              "        vertical-align: middle;\n",
              "    }\n",
              "\n",
              "    .dataframe tbody tr th {\n",
              "        vertical-align: top;\n",
              "    }\n",
              "\n",
              "    .dataframe thead th {\n",
              "        text-align: right;\n",
              "    }\n",
              "</style>\n",
              "<table border=\"1\" class=\"dataframe\">\n",
              "  <thead>\n",
              "    <tr style=\"text-align: right;\">\n",
              "      <th></th>\n",
              "      <th>Date</th>\n",
              "      <th>Add1(in Thousands)</th>\n",
              "      <th>Add2(in Thousands)</th>\n",
              "      <th>Add3(in Thousands)</th>\n",
              "      <th>Add4(in Thousands)</th>\n",
              "      <th>Add5(in Thousands)</th>\n",
              "      <th>Profit(in Thousands)</th>\n",
              "    </tr>\n",
              "  </thead>\n",
              "  <tbody>\n",
              "    <tr>\n",
              "      <th>0</th>\n",
              "      <td>2018-10-08</td>\n",
              "      <td>208.00</td>\n",
              "      <td>222.25</td>\n",
              "      <td>206.85</td>\n",
              "      <td>216.00</td>\n",
              "      <td>215.15</td>\n",
              "      <td>4093.065</td>\n",
              "    </tr>\n",
              "    <tr>\n",
              "      <th>1</th>\n",
              "      <td>2018-10-05</td>\n",
              "      <td>217.00</td>\n",
              "      <td>218.60</td>\n",
              "      <td>205.90</td>\n",
              "      <td>210.25</td>\n",
              "      <td>209.20</td>\n",
              "      <td>4042.448</td>\n",
              "    </tr>\n",
              "    <tr>\n",
              "      <th>2</th>\n",
              "      <td>2018-10-04</td>\n",
              "      <td>223.50</td>\n",
              "      <td>227.80</td>\n",
              "      <td>216.15</td>\n",
              "      <td>217.25</td>\n",
              "      <td>218.20</td>\n",
              "      <td>4213.819</td>\n",
              "    </tr>\n",
              "    <tr>\n",
              "      <th>3</th>\n",
              "      <td>2018-10-03</td>\n",
              "      <td>230.00</td>\n",
              "      <td>237.50</td>\n",
              "      <td>225.75</td>\n",
              "      <td>226.45</td>\n",
              "      <td>227.60</td>\n",
              "      <td>4391.665</td>\n",
              "    </tr>\n",
              "    <tr>\n",
              "      <th>4</th>\n",
              "      <td>2018-10-01</td>\n",
              "      <td>234.55</td>\n",
              "      <td>234.60</td>\n",
              "      <td>221.05</td>\n",
              "      <td>230.30</td>\n",
              "      <td>230.90</td>\n",
              "      <td>4350.683</td>\n",
              "    </tr>\n",
              "  </tbody>\n",
              "</table>\n",
              "</div>"
            ],
            "text/plain": [
              "         Date  Add1(in Thousands)  ...  Add5(in Thousands)  Profit(in Thousands)\n",
              "0  2018-10-08              208.00  ...              215.15              4093.065\n",
              "1  2018-10-05              217.00  ...              209.20              4042.448\n",
              "2  2018-10-04              223.50  ...              218.20              4213.819\n",
              "3  2018-10-03              230.00  ...              227.60              4391.665\n",
              "4  2018-10-01              234.55  ...              230.90              4350.683\n",
              "\n",
              "[5 rows x 7 columns]"
            ]
          },
          "metadata": {},
          "execution_count": 76
        }
      ],
      "source": [
        "import pandas as pd\n",
        "import numpy as np\n",
        "import matplotlib.pyplot as plt \n",
        "import seaborn as sns\n",
        "from sklearn.linear_model import LinearRegression\n",
        "from sklearn.metrics import mean_squared_error\n",
        "from sklearn.model_selection import train_test_split\n",
        "\n",
        "#Reading data\n",
        "\n",
        "data=pd.read_csv(\"/content/Add_sales_data_2018.csv\")\n",
        "data.head()"
      ]
    },
    {
      "cell_type": "markdown",
      "metadata": {
        "id": "ygQG5tvZLYdk"
      },
      "source": [
        "(1) First of all, check whether there is any relationship between the amount \n",
        "spent for advertising through five different companies and profit \n",
        "generated."
      ]
    },
    {
      "cell_type": "code",
      "execution_count": null,
      "metadata": {
        "colab": {
          "base_uri": "https://localhost:8080/",
          "height": 335
        },
        "id": "C0xGkgV4x-6F",
        "outputId": "93d324e5-6277-4f06-9085-58074fe5ff12"
      },
      "outputs": [
        {
          "data": {
            "text/html": [
              "<div>\n",
              "<style scoped>\n",
              "    .dataframe tbody tr th:only-of-type {\n",
              "        vertical-align: middle;\n",
              "    }\n",
              "\n",
              "    .dataframe tbody tr th {\n",
              "        vertical-align: top;\n",
              "    }\n",
              "\n",
              "    .dataframe thead th {\n",
              "        text-align: right;\n",
              "    }\n",
              "</style>\n",
              "<table border=\"1\" class=\"dataframe\">\n",
              "  <thead>\n",
              "    <tr style=\"text-align: right;\">\n",
              "      <th></th>\n",
              "      <th>Add1(in Thousands)</th>\n",
              "      <th>Add2(in Thousands)</th>\n",
              "      <th>Add3(in Thousands)</th>\n",
              "      <th>Add4(in Thousands)</th>\n",
              "      <th>Add5(in Thousands)</th>\n",
              "      <th>Profit(in Thousands)</th>\n",
              "    </tr>\n",
              "  </thead>\n",
              "  <tbody>\n",
              "    <tr>\n",
              "      <th>count</th>\n",
              "      <td>205.000000</td>\n",
              "      <td>205.000000</td>\n",
              "      <td>205.000000</td>\n",
              "      <td>205.000000</td>\n",
              "      <td>205.000000</td>\n",
              "      <td>205.000000</td>\n",
              "    </tr>\n",
              "    <tr>\n",
              "      <th>mean</th>\n",
              "      <td>267.577561</td>\n",
              "      <td>271.722439</td>\n",
              "      <td>262.990732</td>\n",
              "      <td>267.223902</td>\n",
              "      <td>267.152683</td>\n",
              "      <td>5059.630234</td>\n",
              "    </tr>\n",
              "    <tr>\n",
              "      <th>std</th>\n",
              "      <td>26.219588</td>\n",
              "      <td>25.914939</td>\n",
              "      <td>26.126704</td>\n",
              "      <td>26.238832</td>\n",
              "      <td>26.215360</td>\n",
              "      <td>486.910414</td>\n",
              "    </tr>\n",
              "    <tr>\n",
              "      <th>min</th>\n",
              "      <td>208.000000</td>\n",
              "      <td>218.600000</td>\n",
              "      <td>205.900000</td>\n",
              "      <td>210.250000</td>\n",
              "      <td>209.200000</td>\n",
              "      <td>4042.448000</td>\n",
              "    </tr>\n",
              "    <tr>\n",
              "      <th>25%</th>\n",
              "      <td>244.000000</td>\n",
              "      <td>248.500000</td>\n",
              "      <td>240.300000</td>\n",
              "      <td>243.050000</td>\n",
              "      <td>243.000000</td>\n",
              "      <td>4617.695000</td>\n",
              "    </tr>\n",
              "    <tr>\n",
              "      <th>50%</th>\n",
              "      <td>269.700000</td>\n",
              "      <td>274.200000</td>\n",
              "      <td>263.250000</td>\n",
              "      <td>268.900000</td>\n",
              "      <td>268.350000</td>\n",
              "      <td>5088.455000</td>\n",
              "    </tr>\n",
              "    <tr>\n",
              "      <th>75%</th>\n",
              "      <td>284.400000</td>\n",
              "      <td>288.800000</td>\n",
              "      <td>280.900000</td>\n",
              "      <td>284.500000</td>\n",
              "      <td>284.450000</td>\n",
              "      <td>5387.438000</td>\n",
              "    </tr>\n",
              "    <tr>\n",
              "      <th>max</th>\n",
              "      <td>327.700000</td>\n",
              "      <td>328.750000</td>\n",
              "      <td>321.650000</td>\n",
              "      <td>325.950000</td>\n",
              "      <td>325.750000</td>\n",
              "      <td>6137.800000</td>\n",
              "    </tr>\n",
              "  </tbody>\n",
              "</table>\n",
              "</div>"
            ],
            "text/plain": [
              "       Add1(in Thousands)  ...  Profit(in Thousands)\n",
              "count          205.000000  ...            205.000000\n",
              "mean           267.577561  ...           5059.630234\n",
              "std             26.219588  ...            486.910414\n",
              "min            208.000000  ...           4042.448000\n",
              "25%            244.000000  ...           4617.695000\n",
              "50%            269.700000  ...           5088.455000\n",
              "75%            284.400000  ...           5387.438000\n",
              "max            327.700000  ...           6137.800000\n",
              "\n",
              "[8 rows x 6 columns]"
            ]
          },
          "execution_count": 22,
          "metadata": {},
          "output_type": "execute_result"
        }
      ],
      "source": [
        "data.describe()"
      ]
    },
    {
      "cell_type": "code",
      "execution_count": null,
      "metadata": {
        "colab": {
          "base_uri": "https://localhost:8080/"
        },
        "id": "TvkW453iyaMu",
        "outputId": "c8aee44f-c2bb-4d60-c4dd-10c0697f9727"
      },
      "outputs": [
        {
          "data": {
            "text/plain": [
              "Date                    0\n",
              "Add1(in Thousands)      0\n",
              "Add2(in Thousands)      0\n",
              "Add3(in Thousands)      0\n",
              "Add4(in Thousands)      0\n",
              "Add5(in Thousands)      0\n",
              "Profit(in Thousands)    0\n",
              "dtype: int64"
            ]
          },
          "execution_count": 8,
          "metadata": {},
          "output_type": "execute_result"
        }
      ],
      "source": [
        "data.isna().sum()"
      ]
    },
    {
      "cell_type": "code",
      "execution_count": null,
      "metadata": {
        "colab": {
          "base_uri": "https://localhost:8080/"
        },
        "id": "kN9oSJc69Kl_",
        "outputId": "679474e9-0a8e-4159-a52c-3092f8ee1d0f"
      },
      "outputs": [
        {
          "output_type": "execute_result",
          "data": {
            "text/plain": [
              "0      2018-10-08\n",
              "1      2018-10-05\n",
              "2      2018-10-04\n",
              "3      2018-10-03\n",
              "4      2018-10-01\n",
              "          ...    \n",
              "200    2017-12-14\n",
              "201    2017-12-13\n",
              "202    2017-12-12\n",
              "203    2017-12-11\n",
              "204    2017-12-08\n",
              "Name: Date, Length: 205, dtype: object"
            ]
          },
          "metadata": {},
          "execution_count": 43
        }
      ],
      "source": [
        "data.pop('Date')"
      ]
    },
    {
      "cell_type": "code",
      "execution_count": 82,
      "metadata": {
        "colab": {
          "base_uri": "https://localhost:8080/",
          "height": 215
        },
        "id": "q9kN_apnJW5T",
        "outputId": "e90a597e-e4db-4886-bdb9-e1cc41843fb8"
      },
      "outputs": [
        {
          "output_type": "execute_result",
          "data": {
            "text/plain": [
              "<seaborn.axisgrid.PairGrid at 0x7fe623019310>"
            ]
          },
          "metadata": {},
          "execution_count": 82
        },
        {
          "output_type": "display_data",
          "data": {
            "image/png": "[encoded data removed]",
            "text/plain": [
              "<Figure size 1080x180 with 7 Axes>"
            ]
          },
          "metadata": {
            "needs_background": "light"
          }
        }
      ],
      "source": [
        "#draw pairplot on given data\n",
        "sns.pairplot(data,y_vars='Profit(in Thousands)')"
      ]
    },
    {
      "cell_type": "markdown",
      "metadata": {
        "id": "5Dv1rSa-KS9T"
      },
      "source": [
        "Profit is directly proportional to the advertisement spendings"
      ]
    },
    {
      "cell_type": "markdown",
      "metadata": {
        "id": "5hjChCFILnpL"
      },
      "source": [
        "(2)Build a regression model to predict the profit from the given data and \n",
        "comment your findings on it."
      ]
    },
    {
      "cell_type": "code",
      "execution_count": null,
      "metadata": {
        "colab": {
          "base_uri": "https://localhost:8080/",
          "height": 284
        },
        "id": "qwnsYpwWJlQP",
        "outputId": "0603d2c2-3c77-4a36-b50c-4f69990a1037"
      },
      "outputs": [
        {
          "output_type": "execute_result",
          "data": {
            "text/plain": [
              "<matplotlib.axes._subplots.AxesSubplot at 0x7fe623496c90>"
            ]
          },
          "metadata": {},
          "execution_count": 22
        },
        {
          "output_type": "display_data",
          "data": {
            "image/png": "[encoded data removed]",
            "text/plain": [
              "<Figure size 432x288 with 2 Axes>"
            ]
          },
          "metadata": {
            "needs_background": "light"
          }
        }
      ],
      "source": [
        "cr=data.corr()\n",
        "sns.heatmap(cr,annot=True)"
      ]
    },
    {
      "cell_type": "markdown",
      "source": [
        "Advertisement spending is highly positively corelated to profit earned by the company."
      ],
      "metadata": {
        "id": "Rgho1vGkGZYv"
      }
    },
    {
      "cell_type": "markdown",
      "source": [
        "* Building a regression modal"
      ],
      "metadata": {
        "id": "RsBHFxB1Gup7"
      }
    },
    {
      "cell_type": "code",
      "execution_count": null,
      "metadata": {
        "id": "LYWViFF76Tw4"
      },
      "outputs": [],
      "source": [
        "y=data['Profit(in Thousands)']\n",
        "x=data.drop(['Profit(in Thousands)'],axis=1)"
      ]
    },
    {
      "cell_type": "code",
      "execution_count": null,
      "metadata": {
        "id": "AO3cVoFN72tp"
      },
      "outputs": [],
      "source": [
        "x_train, x_test, y_train, y_test = train_test_split(x, y, test_size = 0.10, random_state=100)"
      ]
    },
    {
      "cell_type": "code",
      "execution_count": null,
      "metadata": {
        "colab": {
          "base_uri": "https://localhost:8080/"
        },
        "id": "pKd71nsg8lsH",
        "outputId": "52d467ff-7546-4499-81ec-db9e0b6aa67c"
      },
      "outputs": [
        {
          "output_type": "stream",
          "name": "stdout",
          "text": [
            "160    5387.438\n",
            "186    5861.830\n",
            "59     5190.814\n",
            "165    5107.437\n",
            "140    5250.150\n",
            "64     5239.060\n",
            "198    5435.316\n",
            "75     5163.693\n",
            "172    5789.791\n",
            "104    5518.561\n",
            "200    5374.105\n",
            "136    4915.682\n",
            "111    5491.792\n",
            "41     4453.205\n",
            "73     4936.120\n",
            "31     4617.695\n",
            "156    5137.534\n",
            "133    4821.542\n",
            "65     5075.858\n",
            "83     4980.446\n",
            "195    5667.250\n",
            "Name: Profit(in Thousands), dtype: float64\n"
          ]
        }
      ],
      "source": [
        "lr=LinearRegression()\n",
        "model=lr.fit(x_train,y_train)\n",
        "predictions=model.predict(x_test)\n",
        "print(y_test)"
      ]
    },
    {
      "cell_type": "code",
      "execution_count": null,
      "metadata": {
        "colab": {
          "base_uri": "https://localhost:8080/"
        },
        "id": "4lTzpCuY9owo",
        "outputId": "835b6373-1dd3-4ab0-a3e2-99de786d012e"
      },
      "outputs": [
        {
          "output_type": "stream",
          "name": "stdout",
          "text": [
            "[5387.438 5861.83  5190.814 5107.437 5250.15  5239.06  5435.316 5163.693\n",
            " 5789.791 5518.561 5374.105 4915.682 5491.792 4453.205 4936.12  4617.695\n",
            " 5137.534 4821.542 5075.858 4980.446 5667.25 ]\n"
          ]
        }
      ],
      "source": [
        "print(predictions)"
      ]
    },
    {
      "cell_type": "code",
      "execution_count": null,
      "metadata": {
        "colab": {
          "base_uri": "https://localhost:8080/"
        },
        "id": "Q0FwFg4H9udG",
        "outputId": "48dd9c01-f545-4465-b1e9-ef521a666041"
      },
      "outputs": [
        {
          "output_type": "stream",
          "name": "stdout",
          "text": [
            "mse is 1.2604656953188992e-24\n"
          ]
        }
      ],
      "source": [
        "print(\"mse is\",mean_squared_error(y_test, predictions))"
      ]
    },
    {
      "cell_type": "code",
      "execution_count": 86,
      "metadata": {
        "id": "O6YfOSJkiH0E"
      },
      "outputs": [],
      "source": [
        "r2=model.score(x_test,y_test)"
      ]
    },
    {
      "cell_type": "code",
      "execution_count": 87,
      "metadata": {
        "id": "ZYfdKttERm0J",
        "colab": {
          "base_uri": "https://localhost:8080/"
        },
        "outputId": "53bb7186-ccac-4243-e5ea-b5da97298fcf"
      },
      "outputs": [
        {
          "output_type": "stream",
          "name": "stdout",
          "text": [
            "r2 value for the model is 1.0\n"
          ]
        }
      ],
      "source": [
        "print('r2 value for the model is', r2)"
      ]
    },
    {
      "cell_type": "markdown",
      "source": [
        "r^2 value 1 represents model is perfect"
      ],
      "metadata": {
        "id": "PaiAIIo7HiWx"
      }
    },
    {
      "cell_type": "markdown",
      "source": [
        "(3)  Predict the profit generated by the company, if they wish to spend the \n",
        "following amount for advertisement. \n",
        " \n",
        "Add1(in Thousands) 290 \n",
        "Add2(in Thousands) 312 \n",
        "Add3(in Thousands) 309 \n",
        "Add4(in Thousands) 298 \n",
        "Add5(in Thousands) 320"
      ],
      "metadata": {
        "id": "kJbOJ4WQIhTt"
      }
    },
    {
      "cell_type": "code",
      "source": [
        "dataN={'Add1(in Thousands)':[290],'Add2(in Thousands)':[312],'Add3(in Thousands)':[309],'Add4(in Thousands)':[298],'Add5(in Thousands)':[320]}"
      ],
      "metadata": {
        "id": "WSvfdFcj3L5d"
      },
      "execution_count": null,
      "outputs": []
    },
    {
      "cell_type": "code",
      "source": [
        "df=pd.DataFrame(dataN)"
      ],
      "metadata": {
        "id": "gUSADqpX5Ox9"
      },
      "execution_count": null,
      "outputs": []
    },
    {
      "cell_type": "code",
      "source": [
        "print(df)"
      ],
      "metadata": {
        "colab": {
          "base_uri": "https://localhost:8080/"
        },
        "id": "cei-Vf3s6OCW",
        "outputId": "632a6fc6-6f97-4370-8f5e-ae93ff96b420"
      },
      "execution_count": null,
      "outputs": [
        {
          "output_type": "stream",
          "name": "stdout",
          "text": [
            "   Add1(in Thousands)  ...  Add5(in Thousands)\n",
            "0                 290  ...                 320\n",
            "\n",
            "[1 rows x 5 columns]\n"
          ]
        }
      ]
    },
    {
      "cell_type": "code",
      "source": [
        "model.predict(df)"
      ],
      "metadata": {
        "colab": {
          "base_uri": "https://localhost:8080/"
        },
        "id": "qSDlFeIH6U0p",
        "outputId": "063de916-e557-4d92-ad69-31e01a2bd963"
      },
      "execution_count": null,
      "outputs": [
        {
          "output_type": "execute_result",
          "data": {
            "text/plain": [
              "array([5820.06])"
            ]
          },
          "metadata": {},
          "execution_count": 75
        }
      ]
    },
    {
      "cell_type": "markdown",
      "source": [
        "The profit generated by the company with above menteioned spending is 5820.06(in thousands)"
      ],
      "metadata": {
        "id": "nla0zVepItTA"
      }
    }
  ],
  "metadata": {
    "colab": {
      "collapsed_sections": [],
      "name": "Co_Re_CS3.ipynb",
      "provenance": []
    },
    "kernelspec": {
      "display_name": "Python 3",
      "name": "python3"
    },
    "language_info": {
      "name": "python"
    }
  },
  "nbformat": 4,
  "nbformat_minor": 0
}